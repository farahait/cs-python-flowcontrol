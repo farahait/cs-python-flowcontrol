{
 "cells": [
  {
   "cell_type": "markdown",
   "metadata": {},
   "source": [
    "# Selection\n",
    "\n",
    "Sometimes we only want a program to execute code under certain circumstances.  We call this selection.  The most commonly used way of doing this is using if.  Here we say if a condition is true execute some code. \n",
    "First we need to make sure we are happy what a condition is.  A boolean condition is one that can have only two values true or false. \n",
    "\n",
    "The boolean comparison operators are as follows:\n",
    " \n",
    "Operator Meaning\n",
    "\n",
    "symbol ==   Equal to\n",
    "\n",
    "symbol !=   Not equal to\n",
    "\n",
    "symbol <    Less than\n",
    "\n",
    "symbol <=  Less than or equal to\n",
    "\n",
    "symbol >    Greater than\n",
    "\n",
    "symbol >=   Greater than or equal to"
   ]
  },
  {
   "cell_type": "code",
   "execution_count": null,
   "metadata": {},
   "outputs": [],
   "source": [
    "letter = 'a'\n",
    "if letter =='a':\n",
    "    print('This prints if letter is a')"
   ]
  },
  {
   "cell_type": "markdown",
   "metadata": {},
   "source": [
    "We can add as many statements we want inside the if.  Each should be indented.\n",
    "We can tell the computer to do something different when the condition isn’t true using the else keyword."
   ]
  },
  {
   "cell_type": "code",
   "execution_count": null,
   "metadata": {},
   "outputs": [],
   "source": [
    "if letter =='a':\n",
    "    print('This prints if letter is a')\n",
    "else:\n",
    "    print('This prints if the letter is not an a')"
   ]
  },
  {
   "cell_type": "markdown",
   "metadata": {},
   "source": [
    "### Task 1:\n",
    "Write a program that tells the user what to wear (shorts, trousers, hat, coat, etc etc you choose) based on the temperature that they input.\n",
    "\n",
    "Use well-named variable(s), constants(s), string(s), type conversion, a complex IF statement, comparison and logical operators, and good input and output messages."
   ]
  },
  {
   "cell_type": "code",
   "execution_count": 2,
   "metadata": {},
   "outputs": [
    {
     "name": "stdout",
     "output_type": "stream",
     "text": [
      "Enter the temperature: 2\n"
     ]
    },
    {
     "ename": "TypeError",
     "evalue": "'<=' not supported between instances of 'str' and 'int'",
     "output_type": "error",
     "traceback": [
      "\u001b[0;31m---------------------------------------------------------------------------\u001b[0m",
      "\u001b[0;31mTypeError\u001b[0m                                 Traceback (most recent call last)",
      "\u001b[0;32m<ipython-input-2-f11052034282>\u001b[0m in \u001b[0;36m<module>\u001b[0;34m()\u001b[0m\n\u001b[1;32m      1\u001b[0m \u001b[0mtemp\u001b[0m \u001b[0;34m=\u001b[0m \u001b[0minput\u001b[0m\u001b[0;34m(\u001b[0m\u001b[0;34m'Enter the temperature: '\u001b[0m\u001b[0;34m)\u001b[0m\u001b[0;34m\u001b[0m\u001b[0m\n\u001b[0;32m----> 2\u001b[0;31m \u001b[0;32mif\u001b[0m \u001b[0mtemp\u001b[0m \u001b[0;34m<=\u001b[0m \u001b[0;36m5\u001b[0m\u001b[0;34m:\u001b[0m\u001b[0;34m\u001b[0m\u001b[0m\n\u001b[0m\u001b[1;32m      3\u001b[0m     \u001b[0mprint\u001b[0m\u001b[0;34m(\u001b[0m\u001b[0;34m'Wear a warm outfit for today.'\u001b[0m\u001b[0;34m)\u001b[0m\u001b[0;34m\u001b[0m\u001b[0m\n\u001b[1;32m      4\u001b[0m \u001b[0;32melif\u001b[0m \u001b[0mtemp\u001b[0m \u001b[0;34m>=\u001b[0m\u001b[0;36m6\u001b[0m \u001b[0;32mand\u001b[0m \u001b[0mtemp\u001b[0m \u001b[0;34m<=\u001b[0m \u001b[0;36m16\u001b[0m\u001b[0;34m:\u001b[0m\u001b[0;34m\u001b[0m\u001b[0m\n\u001b[1;32m      5\u001b[0m     \u001b[0mprint\u001b[0m\u001b[0;34m(\u001b[0m\u001b[0;34m'Wear a suitably warn outfit today'\u001b[0m\u001b[0;34m)\u001b[0m\u001b[0;34m\u001b[0m\u001b[0m\n",
      "\u001b[0;31mTypeError\u001b[0m: '<=' not supported between instances of 'str' and 'int'"
     ]
    }
   ],
   "source": [
    "temp = input('Enter the temperature: ')\n",
    "if temp <= 5:\n",
    "    print('Wear a warm outfit for today.')\n",
    "elif temp >=6 and temp <= 16:\n",
    "    print('Wear a suitably warn outfit today')\n",
    "elif temp >16:\n",
    "    print('Wear a light outfit today')"
   ]
  },
  {
   "cell_type": "markdown",
   "metadata": {},
   "source": [
    "### A Note on Indentation\n",
    "When you start a new line after a colon your code (if writing it inside IDLE) you should find your code indented).  Lines will keep indenting until you press backspace.  Python knows that anything indented is inside the structure with the colon - in this case the if.  Indenting is considered good practice in all programming languages as it makes code easier to read but in Python it is even more important as it affects the code’s meaning."
   ]
  },
  {
   "cell_type": "markdown",
   "metadata": {},
   "source": [
    "Copy and run sinle line of the code in the cell below and observe the results\n",
    "\n",
    "1 < x < 3\n",
    "\n",
    "10 < x < 20\n",
    "\n",
    "3 > x <= 2\n",
    "\n",
    "2 == x < 4"
   ]
  },
  {
   "cell_type": "code",
   "execution_count": 23,
   "metadata": {},
   "outputs": [],
   "source": [
    "x = 2\n",
    "# write a single line of code here and run \n",
    "# observe the results\n"
   ]
  },
  {
   "cell_type": "code",
   "execution_count": null,
   "metadata": {},
   "outputs": [],
   "source": [
    "# input any number between 1 and 100\n",
    "x=int(input('Enter a number between 1 and 100: '))\n",
    "# check the validity of the number\n",
    "if x>=1 and x<=100:\n",
    "    print('You have entered a valid number')\n",
    "else:\n",
    "    print('Your number is not valid')"
   ]
  },
  {
   "cell_type": "markdown",
   "metadata": {},
   "source": [
    "A common mistake would be to write the if line as if x>=1 and <=100 missing out the second x.  Remove the x and check out the result. Does it generate an error?"
   ]
  },
  {
   "cell_type": "markdown",
   "metadata": {},
   "source": [
    "#### Logical operators\n",
    "For more complex conditions we can use AND, OR and NOT. \n",
    "\n",
    "AND : both conditions must be TRUE\n",
    "\n",
    "OR : one condition must be TRUE\n",
    "\n",
    "NOT : only applies to one condition - the opposite"
   ]
  },
  {
   "cell_type": "markdown",
   "metadata": {},
   "source": [
    "## Psuedocode example for IF/ELSE statements\n",
    "\n",
    "IF age > 12 AND height > 3 THEN\n",
    "\n",
    "  OUTPUT “You can ride the roller coaster”\n",
    "  \n",
    "END IF\n",
    "\n",
    "IF age <13 OR age > 19 THEN\n",
    "\n",
    "  OUTPUT “You are not eligible for teen discount”\n",
    "  \n",
    "END IF\n",
    "\n",
    "IF NOT ((age > 12) AND (height > 3)) THEN\n",
    "\n",
    "  OUTPUT “You cannot ride the roller coaster”\n",
    "  \n",
    "END IF"
   ]
  },
  {
   "cell_type": "markdown",
   "metadata": {},
   "source": [
    "##### Could you explain the logic for the above program?"
   ]
  },
  {
   "cell_type": "markdown",
   "metadata": {},
   "source": [
    "### Task 2:\n",
    "\n",
    "The grade boundaries for a test are:\n",
    "U -  0\n",
    "D – 40\n",
    "C – 50\n",
    "B – 60\n",
    "A – 70\n",
    "\n",
    "Write a Python program that asks for a mark and then says what grade it is worth."
   ]
  },
  {
   "cell_type": "code",
   "execution_count": 8,
   "metadata": {},
   "outputs": [
    {
     "name": "stdout",
     "output_type": "stream",
     "text": [
      "Enter your number of marks: 23\n",
      "You have a U grade\n"
     ]
    }
   ],
   "source": [
    "marks = int(input('Enter your number of marks: '))\n",
    "if marks < 40:\n",
    "    print('You have a U grade')\n",
    "elif marks >= 40 and marks < 50:\n",
    "    print('You have a D grade')\n",
    "elif marks >= 50 and marks < 60:\n",
    "    print('You have a B grade')\n",
    "elif marks >= 60 and marks < 70:\n",
    "    print('You have a grade A')"
   ]
  },
  {
   "cell_type": "markdown",
   "metadata": {},
   "source": [
    "### Task 3:\n",
    "Write a Python program which asks the user to enter the cost of two items, adds the two costs and if the cost is greater than £10.00, displays a message “Sorry, too much”. Otherwise it displays the change due from £10.00."
   ]
  },
  {
   "cell_type": "code",
   "execution_count": 10,
   "metadata": {},
   "outputs": [
    {
     "name": "stdout",
     "output_type": "stream",
     "text": [
      "Enter the cost of your first item: 562\n",
      "Enter the cost of your second item: 262\n",
      "you can buy the items\n"
     ]
    }
   ],
   "source": [
    "item1 = int(input('Enter the cost of your first item: '))\n",
    "item2 = int(input('Enter the cost of your second item: '))\n",
    "total = item1 + item2\n",
    "\n",
    "if total > 1000:\n",
    "    print('Sorry, too much')\n",
    "else:\n",
    "    print('You can buy the items')"
   ]
  },
  {
   "cell_type": "markdown",
   "metadata": {},
   "source": [
    "### Task 4: Using IF-ELSE statements, write the Python program for the following problems.\n",
    "\n",
    "1) Allow entry to a movie if the user is older than 18 or if they are accompanied by an adult\n",
    "\n",
    "    age <-- INPUT 'Enter your name\n",
    "    adult = true\n",
    "    IF age < 18 AND adult = false THEN\n",
    "        OUTPUT 'You are not allowed to enter'\n",
    "    ELSE THEN\n",
    "        OUTPUT 'You are allowed to enter'\n",
    "\n",
    "2) Allow the user to come to your party if they are a boy and they like pizza\n",
    "\n",
    "    gender = 'boy'\n",
    "    pizza = true\n",
    "    IF gender != 'boy' AND pizza = false THEN\n",
    "        OUTPUT 'idk what you are talking about, i'm not having a party'\n",
    "    ELSE THEN\n",
    "        OUTPUT 'You can come any time to my party'\n",
    "\n",
    "3) Remind the user to take an umbrella if the temperature is higher than 17 and the chance of rain is higher than 80%\n",
    "\n",
    "    temp = USERINPUT\n",
    "    rain_chances = USERINPUT\n",
    "    IF temp > 17 AND rain_chances > 80 THEN\n",
    "        OUTPUT 'Make sure to take an umbrella with you today'"
   ]
  },
  {
   "cell_type": "code",
   "execution_count": 14,
   "metadata": {},
   "outputs": [
    {
     "name": "stdout",
     "output_type": "stream",
     "text": [
      "Enter your age: 5\n",
      "You are allowed to enter\n"
     ]
    }
   ],
   "source": [
    "age = int(input('Enter your age: '))\n",
    "adult = True\n",
    "if age < 18 and adult == False:\n",
    "    print('You are not allowed to enter')\n",
    "else:\n",
    "    print('You are allowed to enter')"
   ]
  }
 ],
 "metadata": {
  "kernelspec": {
   "display_name": "Python 3",
   "language": "python",
   "name": "python3"
  },
  "language_info": {
   "codemirror_mode": {
    "name": "ipython",
    "version": 3
   },
   "file_extension": ".py",
   "mimetype": "text/x-python",
   "name": "python",
   "nbconvert_exporter": "python",
   "pygments_lexer": "ipython3",
   "version": "3.6.5"
  }
 },
 "nbformat": 4,
 "nbformat_minor": 2
}
